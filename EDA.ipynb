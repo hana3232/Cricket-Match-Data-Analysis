{
  "nbformat": 4,
  "nbformat_minor": 0,
  "metadata": {
    "colab": {
      "provenance": []
    },
    "kernelspec": {
      "name": "python3",
      "display_name": "Python 3"
    },
    "language_info": {
      "name": "python"
    }
  },
  "cells": [
    {
      "cell_type": "code",
      "execution_count": 6,
      "metadata": {
        "id": "v2EWsCRv7F4S"
      },
      "outputs": [],
      "source": [
        "import pandas as pd\n",
        "from sqlalchemy import create_engine\n",
        "import plotly.express as px\n",
        "import seaborn as sns\n",
        "import matplotlib.pyplot as plt\n",
        "from mpl_toolkits.mplot3d import Axes3D\n",
        "import numpy as np\n",
        "import plotly.graph_objects as go\n"
      ]
    },
    {
      "cell_type": "code",
      "source": [
        "!pip install PyMySQL"
      ],
      "metadata": {
        "colab": {
          "base_uri": "https://localhost:8080/"
        },
        "id": "CsDNSmI585x6",
        "outputId": "d138cbe6-81e4-40d9-907f-442fa8944d06"
      },
      "execution_count": 10,
      "outputs": [
        {
          "output_type": "stream",
          "name": "stdout",
          "text": [
            "Requirement already satisfied: PyMySQL in /usr/local/lib/python3.11/dist-packages (1.1.1)\n"
          ]
        }
      ]
    },
    {
      "cell_type": "code",
      "source": [
        "# Database Connection\n",
        "DATABASE_USER = \"Ud6xHKHHCuFbH6f.root\"\n",
        "DATABASE_PASSWORD = \"jwl7QF0l1usUQwNi\"\n",
        "DATABASE_HOST = \"gateway01.ap-southeast-1.prod.aws.tidbcloud.com\"\n",
        "DATABASE_PORT = 4000\n",
        "DATABASE_NAME = \"Cricket_Data\"\n"
      ],
      "metadata": {
        "id": "Kk-120eP7XlI"
      },
      "execution_count": 3,
      "outputs": []
    },
    {
      "cell_type": "code",
      "source": [
        "engine = create_engine(f\"mysql+pymysql://{DATABASE_USER}:{DATABASE_PASSWORD}@{DATABASE_HOST}:{DATABASE_PORT}/{DATABASE_NAME}?ssl_verify_cert=false\")\n"
      ],
      "metadata": {
        "id": "ZVkK6ulE7mZD"
      },
      "execution_count": 9,
      "outputs": []
    },
    {
      "source": [
        "# Load Data\n",
        "T20_Matches = pd.read_sql(\"SELECT * FROM T20_Matches;\", con=engine)\n",
        "ODI_Matches = pd.read_sql(\"SELECT * FROM ODI_Matches;\", con=engine)\n",
        "Test_Matches = pd.read_sql(\"SELECT * FROM Test_Matches;\", con=engine)\n"
      ],
      "cell_type": "code",
      "metadata": {
        "collapsed": true,
        "id": "o9rfUFE08yR1"
      },
      "execution_count": 11,
      "outputs": []
    },
    {
      "cell_type": "code",
      "source": [
        "# Run Rate Analysis\n",
        "for df in [T20_Matches, ODI_Matches, Test_Matches]:\n",
        "    df[\"total_runs\"] = pd.to_numeric(df[\"total_runs\"], errors=\"coerce\")\n",
        "    df[\"over_number\"] = pd.to_numeric(df[\"over_number\"], errors=\"coerce\")\n",
        "    df[\"run_rate\"] = df[\"total_runs\"].fillna(0) / df[\"over_number\"].replace(0, pd.NA).fillna(1)\n",
        "\n",
        "run_rate_df = pd.concat([\n",
        "    T20_Matches[[\"match_id\", \"run_rate\"]].assign(format=\"T20\"),\n",
        "    ODI_Matches[[\"match_id\", \"run_rate\"]].assign(format=\"ODI\"),\n",
        "    Test_Matches[[\"match_id\", \"run_rate\"]].assign(format=\"Test\")\n",
        "])\n",
        "\n",
        "fig = px.box(run_rate_df, x=\"format\", y=\"run_rate\", color=\"format\",\n",
        "             title=\"🏏 Run Rate Distribution Across Formats\",\n",
        "             labels={\"run_rate\": \"Run Rate\", \"format\": \"Match Format\"})\n",
        "fig.show()"
      ],
      "metadata": {
        "id": "OzSgtvCO9Dd5"
      },
      "execution_count": null,
      "outputs": []
    },
    {
      "cell_type": "code",
      "source": [
        "# Toss Decision Impact on Wins (Grouped Bar Chart)\n",
        "toss_impact = pd.concat([\n",
        "    T20_Matches.groupby([\"toss_decision\", \"match_winner\"]).size().reset_index(name=\"count\").assign(format=\"T20\"),\n",
        "    ODI_Matches.groupby([\"toss_decision\", \"match_winner\"]).size().reset_index(name=\"count\").assign(format=\"ODI\"),\n",
        "    Test_Matches.groupby([\"toss_decision\", \"match_winner\"]).size().reset_index(name=\"count\").assign(format=\"Test\")\n",
        "])\n",
        "\n",
        "fig = px.bar(toss_impact, x=\"toss_decision\", y=\"count\", color=\"match_winner\",\n",
        "             title=\"🎲 Toss Decision Impact on Match Wins (T20, ODI, Test)\",\n",
        "             labels={\"toss_decision\": \"Toss Decision\", \"count\": \"Number of Matches\"},\n",
        "             barmode=\"group\",\n",
        "             facet_col=\"format\")\n",
        "fig.show()"
      ],
      "metadata": {
        "id": "B27UMiZL9Sd9"
      },
      "execution_count": null,
      "outputs": []
    },
    {
      "cell_type": "code",
      "source": [
        "# Wickets Analysis\n",
        "wicket_df = pd.concat([\n",
        "    T20_Matches.groupby(\"bowler\")[\"wicket\"].sum().reset_index().assign(format=\"T20\"),\n",
        "    ODI_Matches.groupby(\"bowler\")[\"wicket\"].sum().reset_index().assign(format=\"ODI\"),\n",
        "    Test_Matches.groupby(\"bowler\")[\"wicket\"].sum().reset_index().assign(format=\"Test\")\n",
        "])\n",
        "\n",
        "fig = px.bar(wicket_df, x=\"bowler\", y=\"wicket\", color=\"format\",\n",
        "             title=\"🎯 Top Wicket-Taking Bowlers in T20, ODI, and Test\",\n",
        "             labels={\"bowler\": \"Bowler\", \"wicket\": \"Total Wickets\"},\n",
        "             barmode=\"group\")\n",
        "fig.show()\n"
      ],
      "metadata": {
        "id": "yHM_yVT29ajD"
      },
      "execution_count": null,
      "outputs": []
    },
    {
      "cell_type": "code",
      "source": [
        "fig = px.bar(venue_df, y=\"venue\", x=\"count\", color=\"format\",\n",
        "             title=\"🏟️ Matches Played at Different Venues\",\n",
        "             labels={\"venue\": \"Venue\", \"count\": \"Number of Matches\"},\n",
        "             barmode=\"group\", orientation=\"h\")  # Horizontal bars\n",
        "fig.update_layout(width=900, height=600)\n",
        "fig.show()\n"
      ],
      "metadata": {
        "id": "Q9RKZCeH84Ht"
      },
      "execution_count": null,
      "outputs": []
    },
    {
      "source": [
        "#run vs strikr rate\n",
        "fig = plt.figure(figsize=(10, 6))\n",
        "ax = fig.add_subplot(111, projection='3d')\n",
        "\n",
        "# Convert 'runs' column to numeric\n",
        "df['runs'] = pd.to_numeric(df['runs'], errors='coerce')\n",
        "\n",
        "# Sample Data: Runs, Balls Faced, Strike Rate\n",
        "ax.scatter(df['runs'], df['ball_number'], df['total_runs'], c=df['runs'], cmap='coolwarm')\n",
        "\n",
        "# Labels\n",
        "ax.set_xlabel('Runs')\n",
        "ax.set_ylabel('Balls Faced')\n",
        "ax.set_zlabel('Strike Rate')\n",
        "ax.set_title('3D Scatter: Runs vs Balls vs Strike Rate')\n",
        "plt.show()"
      ],
      "cell_type": "code",
      "metadata": {
        "id": "3cdUtDx-Acrx"
      },
      "execution_count": null,
      "outputs": []
    },
    {
      "cell_type": "code",
      "source": [
        "# Convert 'batter' to numeric\n",
        "df['batter_code'] = df['batter'].astype('category').cat.codes\n",
        "\n",
        "# Select Top 10 Players by Runs\n",
        "top_batters = df.groupby('batter')['runs'].sum().reset_index().sort_values(by='runs', ascending=False)[:10]\n",
        "top_batters['batter_code'] = top_batters['batter'].astype('category').cat.codes\n",
        "\n",
        "# 3D Bar Chart\n",
        "fig = plt.figure(figsize=(10, 6))\n",
        "ax = fig.add_subplot(111, projection='3d')\n",
        "\n",
        "x = top_batters['batter_code']  # Coded player names\n",
        "y = np.zeros(len(top_batters))  # Single y-axis for bar placement\n",
        "z = np.zeros(len(top_batters))  # Bar starts from zero\n",
        "dx = np.ones(len(top_batters))  # Bar width\n",
        "dy = np.ones(len(top_batters))  # Bar depth\n",
        "dz = top_batters['runs']  # Bar height (Runs scored)\n",
        "\n",
        "ax.bar3d(x, y, z, dx, dy, dz, shade=True)\n",
        "# Labeling\n",
        "ax.set_xticks(x)\n",
        "ax.set_xticklabels(top_batters['batter'], rotation=45)  # Use player names as labels\n",
        "ax.set_xlabel('Player')\n",
        "ax.set_ylabel('Y (Dummy)')\n",
        "ax.set_zlabel('Total Runs')\n",
        "ax.set_title('Top 10 Players by Runs (3D Bar Chart)')\n",
        "\n",
        "plt.show()"
      ],
      "metadata": {
        "id": "KTT0OtEZAvkx"
      },
      "execution_count": null,
      "outputs": []
    },
    {
      "cell_type": "code",
      "source": [
        "# Ensure column names exist\n",
        "if \"batter\" in ODI_Matches.columns and \"team_2\" in ODI_Matches.columns and \"runs\" in ODI_Matches.columns:\n",
        "\n",
        "    # Filter Virat Kohli's batting data against non-India teams\n",
        "    df = ODI_Matches.query(\"batter == 'V Kohli' and team_2 != 'India'\")\n",
        "\n",
        "    # Ensure there's data before proceeding\n",
        "    if not df.empty:\n",
        "        # Convert 'runs' to numeric to avoid aggregation issues\n",
        "        df[\"runs\"] = pd.to_numeric(df[\"runs\"], errors=\"coerce\")\n",
        "\n",
        "        # Aggregate total runs against each country (excluding India)\n",
        "        total_runs_per_country = df.groupby(\"team_2\")[\"runs\"].sum().reset_index()\n",
        "        total_runs_per_country.rename(columns={\"runs\": \"total_run\"}, inplace=True)\n",
        "\n",
        "        # Plot bar chart\n",
        "        fig = px.bar(total_runs_per_country, x=\"team_2\", y=\"total_run\",\n",
        "                     title=\"Virat Kohli's Total Runs Against Each Country (Excluding India)\",\n",
        "                     labels={\"team_2\": \"Opponent Country\", \"total_run\": \"Total Runs\"},\n",
        "                     color=\"total_run\",  # Color based on total runs\n",
        "                     color_continuous_scale=\"Reds\"  # Darker shades for higher runs\n",
        "                     )\n",
        "\n",
        "        fig.show()\n",
        "    else:\n",
        "        print(\"No data available for Virat Kohli in the dataset.\")\n",
        "else:\n",
        "    print(\"Error: One or more required columns are missing in the dataset.\")\n"
      ],
      "metadata": {
        "id": "Ce_ecQr9BL6o"
      },
      "execution_count": null,
      "outputs": []
    },
    {
      "cell_type": "code",
      "source": [
        "# Specify team\n",
        "team_name = \"India\"  # Change this to any team of interest\n",
        "\n",
        "# Filter data for the specific team\n",
        "ODI_Matches = ODI_Matches[(ODI_Matches['team_1'] == team_name) | (ODI_Matches['team_2'] == team_name)]\n",
        "T20_Matches = T20_Matches[(T20_Matches['team_1'] == team_name) | (T20_Matches['team_2'] == team_name)]\n",
        "Test_Matches = Test_Matches[(Test_Matches['team_1'] == team_name) | (Test_Matches['team_2'] == team_name)]\n",
        "\n",
        "# Compute average run rate per over for each format\n",
        "odi_rr = ODI_Matches.groupby('over_number')['total_runs'].mean()\n",
        "t20_rr = T20_Matches.groupby('over_number')['total_runs'].mean()\n",
        "test_rr = Test_Matches.groupby('over_number')['total_runs'].mean()\n",
        "\n",
        "x = np.arange(1, len(odi_rr) + 1)\n",
        "x_rev = x[::-1]\n",
        "\n",
        "# **New Prediction - Future Trend** (Exponential Model for Run Rate Growth)\n",
        "predicted_rr = 2 * np.exp(0.05 * x)\n",
        "predicted_upper = predicted_rr * 1.2\n",
        "predicted_lower = predicted_rr * 0.8\n",
        "predicted_lower = predicted_lower[::-1]\n",
        "\n",
        "fig = go.Figure()\n",
        "# Shaded Areas for confidence intervals\n",
        "colors = ['rgba(0,100,80,0.2)', 'rgba(0,176,246,0.2)', 'rgba(231,107,243,0.2)', 'rgba(255,165,0,0.2)']\n",
        "names = ['ODI', 'T20', 'Test', 'Predicted']\n",
        "lines = [odi_rr, t20_rr, test_rr, predicted_rr]\n",
        "upper_bounds = [odi_rr * 1.1, t20_rr * 1.1, test_rr * 1.1, predicted_upper]\n",
        "lower_bounds = [odi_rr * 0.9, t20_rr * 0.9, test_rr * 0.9, predicted_lower]\n",
        "\n",
        "for i in range(4):\n",
        "    fig.add_trace(go.Scatter(\n",
        "        x=np.concatenate((x, x_rev)),\n",
        "        y=np.concatenate((upper_bounds[i], lower_bounds[i])),\n",
        "        fill='toself',\n",
        "        fillcolor=colors[i],\n",
        "        line_color='rgba(255,255,255,0)',\n",
        "        showlegend=False,\n",
        "    ))\n",
        "\n",
        "# Line plots\n",
        "line_colors = ['rgb(0,100,80)', 'rgb(0,176,246)', 'rgb(231,107,243)', 'rgb(255,165,0)']\n",
        "for i in range(4):\n",
        "    fig.add_trace(go.Scatter(\n",
        "        x=x, y=lines[i],\n",
        "        line_color=line_colors[i],\n",
        "        name=names[i],\n",
        "    ))\n",
        "\n",
        "fig.update_traces(mode='lines')\n",
        "fig.update_layout(title=f\"Run Rate Trends for {team_name} Across Formats with Predicted Future Growth\")\n",
        "fig.show()\n",
        "\n"
      ],
      "metadata": {
        "id": "GtHDKLpYA6By"
      },
      "execution_count": null,
      "outputs": []
    }
  ]
}